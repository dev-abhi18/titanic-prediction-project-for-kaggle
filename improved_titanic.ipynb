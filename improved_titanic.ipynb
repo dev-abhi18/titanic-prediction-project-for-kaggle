{
 "cells": [
  {
   "cell_type": "markdown",
   "metadata": {},
   "source": [
    "## IMPORTING ALL THE MODULES\n"
   ]
  },
  {
   "cell_type": "code",
   "execution_count": 116,
   "metadata": {},
   "outputs": [],
   "source": [
    "import pandas as pd\n",
    "import numpy as np\n",
    "import matplotlib.pyplot as plt\n",
    "from sklearn.linear_model import LogisticRegression\n",
    "import seaborn as sns\n",
    "from sklearn.model_selection import train_test_split\n",
    "from sklearn.tree import DecisionTreeClassifier\n",
    "from sklearn.ensemble import RandomForestClassifier\n",
    "from sklearn import preprocessing"
   ]
  },
  {
   "cell_type": "markdown",
   "metadata": {},
   "source": [
    "### IMPORTING TESTING AND TRAINING DATA"
   ]
  },
  {
   "cell_type": "code",
   "execution_count": 117,
   "metadata": {},
   "outputs": [],
   "source": [
    "training_data = pd.read_csv(\"train.csv\")\n",
    "test_data = pd.read_csv(\"test.csv\")"
   ]
  },
  {
   "cell_type": "markdown",
   "metadata": {},
   "source": [
    "### CLEANING THE DATA\n"
   ]
  },
  {
   "cell_type": "code",
   "execution_count": 118,
   "metadata": {},
   "outputs": [
    {
     "name": "stdout",
     "output_type": "stream",
     "text": [
      "PassengerId      0\n",
      "Survived         0\n",
      "Pclass           0\n",
      "Name             0\n",
      "Sex              0\n",
      "Age            177\n",
      "SibSp            0\n",
      "Parch            0\n",
      "Ticket           0\n",
      "Fare             0\n",
      "Cabin          687\n",
      "Embarked         2\n",
      "dtype: int64\n"
     ]
    }
   ],
   "source": [
    "print(training_data.isna().sum())\n",
    "training_data = training_data.drop(columns=\"Cabin\" , axis=1)\n",
    "training_data.loc[(training_data.Age.isnull())&(training_data['Survived']==0), 'Age']=training_data.loc[(training_data.Age.notnull())&(training_data['Survived']==0), 'Age'].median()\n",
    "training_data.loc[(training_data.Age.isnull())&(training_data['Survived']==1), 'Age']=training_data.loc[(training_data.Age.notnull())&(training_data['Survived']==1), 'Age'].median()\n",
    "training_data['Embarked'].fillna(training_data['Embarked'].mode()[0] , inplace=True)"
   ]
  },
  {
   "cell_type": "code",
   "execution_count": 119,
   "metadata": {},
   "outputs": [
    {
     "name": "stdout",
     "output_type": "stream",
     "text": [
      "PassengerId    0\n",
      "Survived       0\n",
      "Pclass         0\n",
      "Name           0\n",
      "Sex            0\n",
      "Age            0\n",
      "SibSp          0\n",
      "Parch          0\n",
      "Ticket         0\n",
      "Fare           0\n",
      "Embarked       0\n",
      "dtype: int64\n"
     ]
    }
   ],
   "source": [
    "print(training_data.isna().sum())"
   ]
  },
  {
   "cell_type": "code",
   "execution_count": 120,
   "metadata": {},
   "outputs": [],
   "source": [
    "training_data.replace({'Sex':{'male':0,'female':1}, 'Embarked':{'S':0,'C':1,'Q':2}}, inplace=True)\n",
    "X = training_data.drop(columns=['PassengerId' , 'Name' , 'Ticket' , 'Survived'] , axis=1)\n",
    "Y = training_data['Survived']\n"
   ]
  },
  {
   "cell_type": "code",
   "execution_count": 121,
   "metadata": {},
   "outputs": [],
   "source": [
    "test_data.replace({'Sex':{'male':0,'female':1}, 'Embarked':{'S':0,'C':1,'Q':2}}, inplace=True)\n",
    "test_data.drop(columns=['PassengerId' , 'Name' , 'Ticket' , 'Cabin'] , axis=1 , inplace=True)\n",
    "test_data[\"Fare\"].fillna(test_data['Embarked'].mode()[0] , inplace=True)\n",
    "test_data[\"Age\"].fillna(test_data[\"Age\"].mean() , inplace=True)\n",
    "test_data[\"age_age\"] = test_data.Age**2\n",
    "test_data[\"Pclass_Fare\"] = test_data.Pclass * test_data.Fare\n",
    "test_data[\"Fare_Fare\"] = test_data.Fare **2"
   ]
  },
  {
   "cell_type": "code",
   "execution_count": 122,
   "metadata": {},
   "outputs": [
    {
     "data": {
      "text/html": [
       "<div>\n",
       "<style scoped>\n",
       "    .dataframe tbody tr th:only-of-type {\n",
       "        vertical-align: middle;\n",
       "    }\n",
       "\n",
       "    .dataframe tbody tr th {\n",
       "        vertical-align: top;\n",
       "    }\n",
       "\n",
       "    .dataframe thead th {\n",
       "        text-align: right;\n",
       "    }\n",
       "</style>\n",
       "<table border=\"1\" class=\"dataframe\">\n",
       "  <thead>\n",
       "    <tr style=\"text-align: right;\">\n",
       "      <th></th>\n",
       "      <th>Pclass</th>\n",
       "      <th>Sex</th>\n",
       "      <th>Age</th>\n",
       "      <th>SibSp</th>\n",
       "      <th>Parch</th>\n",
       "      <th>Fare</th>\n",
       "      <th>Embarked</th>\n",
       "      <th>age_age</th>\n",
       "      <th>Pclass_Fare</th>\n",
       "      <th>Fare_Fare</th>\n",
       "    </tr>\n",
       "  </thead>\n",
       "  <tbody>\n",
       "    <tr>\n",
       "      <th>0</th>\n",
       "      <td>3</td>\n",
       "      <td>0</td>\n",
       "      <td>34.5</td>\n",
       "      <td>0</td>\n",
       "      <td>0</td>\n",
       "      <td>7.8292</td>\n",
       "      <td>2</td>\n",
       "      <td>1190.25</td>\n",
       "      <td>23.4876</td>\n",
       "      <td>61.296373</td>\n",
       "    </tr>\n",
       "    <tr>\n",
       "      <th>1</th>\n",
       "      <td>3</td>\n",
       "      <td>1</td>\n",
       "      <td>47.0</td>\n",
       "      <td>1</td>\n",
       "      <td>0</td>\n",
       "      <td>7.0000</td>\n",
       "      <td>0</td>\n",
       "      <td>2209.00</td>\n",
       "      <td>21.0000</td>\n",
       "      <td>49.000000</td>\n",
       "    </tr>\n",
       "    <tr>\n",
       "      <th>2</th>\n",
       "      <td>2</td>\n",
       "      <td>0</td>\n",
       "      <td>62.0</td>\n",
       "      <td>0</td>\n",
       "      <td>0</td>\n",
       "      <td>9.6875</td>\n",
       "      <td>2</td>\n",
       "      <td>3844.00</td>\n",
       "      <td>19.3750</td>\n",
       "      <td>93.847656</td>\n",
       "    </tr>\n",
       "    <tr>\n",
       "      <th>3</th>\n",
       "      <td>3</td>\n",
       "      <td>0</td>\n",
       "      <td>27.0</td>\n",
       "      <td>0</td>\n",
       "      <td>0</td>\n",
       "      <td>8.6625</td>\n",
       "      <td>0</td>\n",
       "      <td>729.00</td>\n",
       "      <td>25.9875</td>\n",
       "      <td>75.038906</td>\n",
       "    </tr>\n",
       "    <tr>\n",
       "      <th>4</th>\n",
       "      <td>3</td>\n",
       "      <td>1</td>\n",
       "      <td>22.0</td>\n",
       "      <td>1</td>\n",
       "      <td>1</td>\n",
       "      <td>12.2875</td>\n",
       "      <td>0</td>\n",
       "      <td>484.00</td>\n",
       "      <td>36.8625</td>\n",
       "      <td>150.982656</td>\n",
       "    </tr>\n",
       "  </tbody>\n",
       "</table>\n",
       "</div>"
      ],
      "text/plain": [
       "   Pclass  Sex   Age  SibSp  Parch     Fare  Embarked  age_age  Pclass_Fare  \\\n",
       "0       3    0  34.5      0      0   7.8292         2  1190.25      23.4876   \n",
       "1       3    1  47.0      1      0   7.0000         0  2209.00      21.0000   \n",
       "2       2    0  62.0      0      0   9.6875         2  3844.00      19.3750   \n",
       "3       3    0  27.0      0      0   8.6625         0   729.00      25.9875   \n",
       "4       3    1  22.0      1      1  12.2875         0   484.00      36.8625   \n",
       "\n",
       "    Fare_Fare  \n",
       "0   61.296373  \n",
       "1   49.000000  \n",
       "2   93.847656  \n",
       "3   75.038906  \n",
       "4  150.982656  "
      ]
     },
     "execution_count": 122,
     "metadata": {},
     "output_type": "execute_result"
    }
   ],
   "source": [
    "test_data.head()"
   ]
  },
  {
   "cell_type": "code",
   "execution_count": 123,
   "metadata": {},
   "outputs": [],
   "source": [
    "columnNames = ['Pclass' , 'Sex' , 'Age' , 'SibSp' , 'Parch' , 'Fare' , 'Embarked' , 'age_age' , 'Pclass_fare' , 'Fare_Fare' ]"
   ]
  },
  {
   "cell_type": "markdown",
   "metadata": {},
   "source": [
    "### adding features\n"
   ]
  },
  {
   "cell_type": "code",
   "execution_count": 124,
   "metadata": {},
   "outputs": [
    {
     "data": {
      "image/png": "[encoded data removed]",
      "text/plain": [
       "<Figure size 432x288 with 2 Axes>"
      ]
     },
     "metadata": {
      "needs_background": "light"
     },
     "output_type": "display_data"
    }
   ],
   "source": [
    "sns.heatmap(training_data.corr() , cmap='YlGnBu' )\n",
    "plt.show()"
   ]
  },
  {
   "cell_type": "code",
   "execution_count": 125,
   "metadata": {},
   "outputs": [],
   "source": [
    "X['age_age'] = X.Age **2\n",
    "X[\"Pclass_Fare\"] = X.Pclass * X.Fare\n",
    "X[\"Fare_Fare\"] = X.Fare **2"
   ]
  },
  {
   "cell_type": "code",
   "execution_count": 126,
   "metadata": {},
   "outputs": [
    {
     "data": {
      "text/plain": [
       "(891, 10)"
      ]
     },
     "execution_count": 126,
     "metadata": {},
     "output_type": "execute_result"
    }
   ],
   "source": [
    "X.shape"
   ]
  },
  {
   "cell_type": "markdown",
   "metadata": {},
   "source": [
    "### Feature Scaling"
   ]
  },
  {
   "cell_type": "code",
   "execution_count": 127,
   "metadata": {},
   "outputs": [
    {
     "name": "stdout",
     "output_type": "stream",
     "text": [
      "(891, 10)\n"
     ]
    }
   ],
   "source": [
    "scaler = preprocessing.StandardScaler()\n",
    "X = scaler.fit_transform(X)\n",
    "print(X.shape)\n",
    "X_train_scaled = pd.DataFrame(X,columns = columnNames)\n"
   ]
  },
  {
   "cell_type": "code",
   "execution_count": 128,
   "metadata": {},
   "outputs": [],
   "source": [
    "test_data = scaler.fit_transform(test_data)\n",
    "test_scaled_data = pd.DataFrame(test_data , columns= columnNames)"
   ]
  },
  {
   "cell_type": "code",
   "execution_count": 129,
   "metadata": {},
   "outputs": [
    {
     "data": {
      "text/html": [
       "<div>\n",
       "<style scoped>\n",
       "    .dataframe tbody tr th:only-of-type {\n",
       "        vertical-align: middle;\n",
       "    }\n",
       "\n",
       "    .dataframe tbody tr th {\n",
       "        vertical-align: top;\n",
       "    }\n",
       "\n",
       "    .dataframe thead th {\n",
       "        text-align: right;\n",
       "    }\n",
       "</style>\n",
       "<table border=\"1\" class=\"dataframe\">\n",
       "  <thead>\n",
       "    <tr style=\"text-align: right;\">\n",
       "      <th></th>\n",
       "      <th>Pclass</th>\n",
       "      <th>Sex</th>\n",
       "      <th>Age</th>\n",
       "      <th>SibSp</th>\n",
       "      <th>Parch</th>\n",
       "      <th>Fare</th>\n",
       "      <th>Embarked</th>\n",
       "      <th>age_age</th>\n",
       "      <th>Pclass_fare</th>\n",
       "      <th>Fare_Fare</th>\n",
       "    </tr>\n",
       "  </thead>\n",
       "  <tbody>\n",
       "    <tr>\n",
       "      <th>0</th>\n",
       "      <td>0.827377</td>\n",
       "      <td>-0.737695</td>\n",
       "      <td>-0.565736</td>\n",
       "      <td>0.432793</td>\n",
       "      <td>-0.473674</td>\n",
       "      <td>-0.502445</td>\n",
       "      <td>-0.568837</td>\n",
       "      <td>-0.611586</td>\n",
       "      <td>-0.577965</td>\n",
       "      <td>-0.199305</td>\n",
       "    </tr>\n",
       "    <tr>\n",
       "      <th>1</th>\n",
       "      <td>-1.566107</td>\n",
       "      <td>1.355574</td>\n",
       "      <td>0.663861</td>\n",
       "      <td>0.432793</td>\n",
       "      <td>-0.473674</td>\n",
       "      <td>0.786845</td>\n",
       "      <td>1.005181</td>\n",
       "      <td>0.460931</td>\n",
       "      <td>0.382936</td>\n",
       "      <td>0.091101</td>\n",
       "    </tr>\n",
       "    <tr>\n",
       "      <th>2</th>\n",
       "      <td>0.827377</td>\n",
       "      <td>1.355574</td>\n",
       "      <td>-0.258337</td>\n",
       "      <td>-0.474545</td>\n",
       "      <td>-0.473674</td>\n",
       "      <td>-0.488854</td>\n",
       "      <td>-0.568837</td>\n",
       "      <td>-0.397083</td>\n",
       "      <td>-0.538682</td>\n",
       "      <td>-0.198713</td>\n",
       "    </tr>\n",
       "    <tr>\n",
       "      <th>3</th>\n",
       "      <td>-1.566107</td>\n",
       "      <td>1.355574</td>\n",
       "      <td>0.433312</td>\n",
       "      <td>0.432793</td>\n",
       "      <td>-0.473674</td>\n",
       "      <td>0.420730</td>\n",
       "      <td>-0.568837</td>\n",
       "      <td>0.216263</td>\n",
       "      <td>0.030196</td>\n",
       "      <td>-0.039510</td>\n",
       "    </tr>\n",
       "    <tr>\n",
       "      <th>4</th>\n",
       "      <td>0.827377</td>\n",
       "      <td>-0.737695</td>\n",
       "      <td>0.433312</td>\n",
       "      <td>-0.474545</td>\n",
       "      <td>-0.473674</td>\n",
       "      <td>-0.486337</td>\n",
       "      <td>-0.568837</td>\n",
       "      <td>0.216263</td>\n",
       "      <td>-0.531407</td>\n",
       "      <td>-0.198598</td>\n",
       "    </tr>\n",
       "  </tbody>\n",
       "</table>\n",
       "</div>"
      ],
      "text/plain": [
       "     Pclass       Sex       Age     SibSp     Parch      Fare  Embarked  \\\n",
       "0  0.827377 -0.737695 -0.565736  0.432793 -0.473674 -0.502445 -0.568837   \n",
       "1 -1.566107  1.355574  0.663861  0.432793 -0.473674  0.786845  1.005181   \n",
       "2  0.827377  1.355574 -0.258337 -0.474545 -0.473674 -0.488854 -0.568837   \n",
       "3 -1.566107  1.355574  0.433312  0.432793 -0.473674  0.420730 -0.568837   \n",
       "4  0.827377 -0.737695  0.433312 -0.474545 -0.473674 -0.486337 -0.568837   \n",
       "\n",
       "    age_age  Pclass_fare  Fare_Fare  \n",
       "0 -0.611586    -0.577965  -0.199305  \n",
       "1  0.460931     0.382936   0.091101  \n",
       "2 -0.397083    -0.538682  -0.198713  \n",
       "3  0.216263     0.030196  -0.039510  \n",
       "4  0.216263    -0.531407  -0.198598  "
      ]
     },
     "execution_count": 129,
     "metadata": {},
     "output_type": "execute_result"
    }
   ],
   "source": [
    "X_train_scaled.head()"
   ]
  },
  {
   "cell_type": "code",
   "execution_count": 130,
   "metadata": {},
   "outputs": [
    {
     "data": {
      "text/html": [
       "<div>\n",
       "<style scoped>\n",
       "    .dataframe tbody tr th:only-of-type {\n",
       "        vertical-align: middle;\n",
       "    }\n",
       "\n",
       "    .dataframe tbody tr th {\n",
       "        vertical-align: top;\n",
       "    }\n",
       "\n",
       "    .dataframe thead th {\n",
       "        text-align: right;\n",
       "    }\n",
       "</style>\n",
       "<table border=\"1\" class=\"dataframe\">\n",
       "  <thead>\n",
       "    <tr style=\"text-align: right;\">\n",
       "      <th></th>\n",
       "      <th>Pclass</th>\n",
       "      <th>Sex</th>\n",
       "      <th>Age</th>\n",
       "      <th>SibSp</th>\n",
       "      <th>Parch</th>\n",
       "      <th>Fare</th>\n",
       "      <th>Embarked</th>\n",
       "      <th>age_age</th>\n",
       "      <th>Pclass_fare</th>\n",
       "      <th>Fare_Fare</th>\n",
       "    </tr>\n",
       "  </thead>\n",
       "  <tbody>\n",
       "    <tr>\n",
       "      <th>0</th>\n",
       "      <td>0.873482</td>\n",
       "      <td>-0.755929</td>\n",
       "      <td>0.334993</td>\n",
       "      <td>-0.499470</td>\n",
       "      <td>-0.400248</td>\n",
       "      <td>-0.496637</td>\n",
       "      <td>2.243165</td>\n",
       "      <td>0.129678</td>\n",
       "      <td>-0.536793</td>\n",
       "      <td>-0.250083</td>\n",
       "    </tr>\n",
       "    <tr>\n",
       "      <th>1</th>\n",
       "      <td>0.873482</td>\n",
       "      <td>1.322876</td>\n",
       "      <td>1.325530</td>\n",
       "      <td>0.616992</td>\n",
       "      <td>-0.400248</td>\n",
       "      <td>-0.511497</td>\n",
       "      <td>-0.677841</td>\n",
       "      <td>1.282763</td>\n",
       "      <td>-0.581406</td>\n",
       "      <td>-0.250796</td>\n",
       "    </tr>\n",
       "    <tr>\n",
       "      <th>2</th>\n",
       "      <td>-0.315819</td>\n",
       "      <td>-0.755929</td>\n",
       "      <td>2.514175</td>\n",
       "      <td>-0.499470</td>\n",
       "      <td>-0.400248</td>\n",
       "      <td>-0.463335</td>\n",
       "      <td>2.243165</td>\n",
       "      <td>3.133359</td>\n",
       "      <td>-0.610550</td>\n",
       "      <td>-0.248197</td>\n",
       "    </tr>\n",
       "    <tr>\n",
       "      <th>3</th>\n",
       "      <td>0.873482</td>\n",
       "      <td>-0.755929</td>\n",
       "      <td>-0.259330</td>\n",
       "      <td>-0.499470</td>\n",
       "      <td>-0.400248</td>\n",
       "      <td>-0.481704</td>\n",
       "      <td>-0.677841</td>\n",
       "      <td>-0.392393</td>\n",
       "      <td>-0.491958</td>\n",
       "      <td>-0.249287</td>\n",
       "    </tr>\n",
       "    <tr>\n",
       "      <th>4</th>\n",
       "      <td>0.873482</td>\n",
       "      <td>1.322876</td>\n",
       "      <td>-0.655545</td>\n",
       "      <td>0.616992</td>\n",
       "      <td>0.619896</td>\n",
       "      <td>-0.416740</td>\n",
       "      <td>-0.677841</td>\n",
       "      <td>-0.669700</td>\n",
       "      <td>-0.296920</td>\n",
       "      <td>-0.244886</td>\n",
       "    </tr>\n",
       "  </tbody>\n",
       "</table>\n",
       "</div>"
      ],
      "text/plain": [
       "     Pclass       Sex       Age     SibSp     Parch      Fare  Embarked  \\\n",
       "0  0.873482 -0.755929  0.334993 -0.499470 -0.400248 -0.496637  2.243165   \n",
       "1  0.873482  1.322876  1.325530  0.616992 -0.400248 -0.511497 -0.677841   \n",
       "2 -0.315819 -0.755929  2.514175 -0.499470 -0.400248 -0.463335  2.243165   \n",
       "3  0.873482 -0.755929 -0.259330 -0.499470 -0.400248 -0.481704 -0.677841   \n",
       "4  0.873482  1.322876 -0.655545  0.616992  0.619896 -0.416740 -0.677841   \n",
       "\n",
       "    age_age  Pclass_fare  Fare_Fare  \n",
       "0  0.129678    -0.536793  -0.250083  \n",
       "1  1.282763    -0.581406  -0.250796  \n",
       "2  3.133359    -0.610550  -0.248197  \n",
       "3 -0.392393    -0.491958  -0.249287  \n",
       "4 -0.669700    -0.296920  -0.244886  "
      ]
     },
     "execution_count": 130,
     "metadata": {},
     "output_type": "execute_result"
    }
   ],
   "source": [
    "test_scaled_data.head()"
   ]
  },
  {
   "cell_type": "markdown",
   "metadata": {},
   "source": [
    "## train test split"
   ]
  },
  {
   "cell_type": "code",
   "execution_count": 131,
   "metadata": {},
   "outputs": [],
   "source": [
    "X_train , X_test , Y_train , Y_test = train_test_split(X_train_scaled,Y , test_size =0.3 , random_state = 42)"
   ]
  },
  {
   "cell_type": "markdown",
   "metadata": {},
   "source": [
    "## Logistic Regression"
   ]
  },
  {
   "cell_type": "code",
   "execution_count": 132,
   "metadata": {},
   "outputs": [
    {
     "name": "stdout",
     "output_type": "stream",
     "text": [
      "0.812199036918138\n",
      "0.8022388059701493\n"
     ]
    }
   ],
   "source": [
    "algo1 = LogisticRegression()\n",
    "algo1.fit(X_train , Y_train)\n",
    "print(algo1.score(X_train , Y_train))\n",
    "print(algo1.score(X_test , Y_test))"
   ]
  },
  {
   "cell_type": "markdown",
   "metadata": {},
   "source": [
    "### Prediction"
   ]
  },
  {
   "cell_type": "code",
   "execution_count": 133,
   "metadata": {},
   "outputs": [],
   "source": [
    "pred1 = algo1.predict(test_scaled_data)\n"
   ]
  },
  {
   "cell_type": "markdown",
   "metadata": {},
   "source": [
    "### Saving Result\n"
   ]
  },
  {
   "cell_type": "code",
   "execution_count": 134,
   "metadata": {},
   "outputs": [],
   "source": [
    "sub = pd.read_csv(\"gender_submission.csv\")\n",
    "sub['Survived'] = pred1.astype('int')\n",
    "sub.to_csv('Submission.csv' , index = False)\n"
   ]
  },
  {
   "cell_type": "markdown",
   "metadata": {},
   "source": [
    "## Decision Tree"
   ]
  },
  {
   "cell_type": "code",
   "execution_count": 135,
   "metadata": {},
   "outputs": [
    {
     "name": "stdout",
     "output_type": "stream",
     "text": [
      "0.913322632423756\n",
      "0.7910447761194029\n"
     ]
    }
   ],
   "source": [
    "algo2 = DecisionTreeClassifier(random_state=15 , max_depth = 8)\n",
    "algo2.fit(X_train,Y_train)\n",
    "print(algo2.score(X_train , Y_train))\n",
    "print(algo2.score(X_test , Y_test))\n"
   ]
  },
  {
   "cell_type": "markdown",
   "metadata": {},
   "source": [
    "### Prediction"
   ]
  },
  {
   "cell_type": "code",
   "execution_count": 136,
   "metadata": {},
   "outputs": [],
   "source": [
    "pred2 = algo2.predict(test_scaled_data)"
   ]
  },
  {
   "cell_type": "markdown",
   "metadata": {},
   "source": [
    "### Saving the results"
   ]
  },
  {
   "cell_type": "code",
   "execution_count": 137,
   "metadata": {},
   "outputs": [],
   "source": [
    "sub = pd.read_csv(\"gender_submission.csv\")\n",
    "sub['Survived'] = pred2.astype('int')\n",
    "sub.to_csv('Submission2.csv' , index = False)"
   ]
  },
  {
   "cell_type": "markdown",
   "metadata": {},
   "source": [
    "## Random Forest"
   ]
  },
  {
   "cell_type": "code",
   "execution_count": 138,
   "metadata": {},
   "outputs": [
    {
     "name": "stdout",
     "output_type": "stream",
     "text": [
      "0.9390048154093098\n",
      "0.8097014925373134\n"
     ]
    }
   ],
   "source": [
    "algo3 = RandomForestClassifier(random_state=2, max_depth= 9  )\n",
    "algo3.fit(X_train,Y_train)\n",
    "print(algo3.score(X_train , Y_train))\n",
    "print(algo3.score(X_test , Y_test))\n"
   ]
  },
  {
   "cell_type": "markdown",
   "metadata": {},
   "source": [
    "### Prediction"
   ]
  },
  {
   "cell_type": "code",
   "execution_count": 139,
   "metadata": {},
   "outputs": [],
   "source": [
    "pred3 = algo3.predict(test_scaled_data)"
   ]
  },
  {
   "cell_type": "markdown",
   "metadata": {},
   "source": [
    "### Saving the Results"
   ]
  },
  {
   "cell_type": "code",
   "execution_count": 140,
   "metadata": {},
   "outputs": [],
   "source": [
    "sub = pd.read_csv(\"gender_submission.csv\")\n",
    "sub['Survived'] = pred3.astype('int')\n",
    "sub.to_csv('Submission3.csv' , index = False)"
   ]
  }
 ],
 "metadata": {
  "kernelspec": {
   "display_name": "Python 3.10.5 64-bit",
   "language": "python",
   "name": "python3"
  },
  "language_info": {
   "codemirror_mode": {
    "name": "ipython",
    "version": 3
   },
   "file_extension": ".py",
   "mimetype": "text/x-python",
   "name": "python",
   "nbconvert_exporter": "python",
   "pygments_lexer": "ipython3",
   "version": "3.10.5"
  },
  "orig_nbformat": 4,
  "vscode": {
   "interpreter": {
    "hash": "9ed0e90147d4a6ae573ad616513c929beb137628b78bd05b75918f51936af731"
   }
  }
 },
 "nbformat": 4,
 "nbformat_minor": 2
}
